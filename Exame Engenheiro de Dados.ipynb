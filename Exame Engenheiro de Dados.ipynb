{
 "cells": [
  {
   "cell_type": "code",
   "execution_count": 0,
   "metadata": {
    "application/vnd.databricks.v1+cell": {
     "cellMetadata": {
      "byteLimit": 2048000,
      "rowLimit": 10000
     },
     "inputWidgets": {},
     "nuid": "33fb47ef-0d65-428e-97ac-951862b783b9",
     "showTitle": false,
     "title": ""
    }
   },
   "outputs": [],
   "source": [
    "import shutil\n",
    "import os\n",
    "import datetime\n",
    "import sys \n",
    " "
   ]
  },
  {
   "cell_type": "code",
   "execution_count": 0,
   "metadata": {
    "application/vnd.databricks.v1+cell": {
     "cellMetadata": {
      "byteLimit": 2048000,
      "rowLimit": 10000
     },
     "inputWidgets": {},
     "nuid": "eb0fd58f-f6b3-45e2-a47e-025beef96134",
     "showTitle": false,
     "title": ""
    }
   },
   "outputs": [],
   "source": [
    " \n",
    "dfPacientes = spark.read.format(\"csv\").option(\"header\", \"true\").option(\"delimiter\", \"|\").load(\"dbfs:/FileStore/mnt/cargas/stage/EINSTEIN_Pacientes_2.csv\")\n",
    "\n",
    "dfExames = spark.read.format(\"csv\").option(\"header\", \"true\").option(\"delimiter\", \"|\").load(\"dbfs:/FileStore/mnt/cargas/stage/EINSTEIN_Exames_2.csv\") \n",
    " "
   ]
  },
  {
   "cell_type": "code",
   "execution_count": 0,
   "metadata": {
    "application/vnd.databricks.v1+cell": {
     "cellMetadata": {
      "byteLimit": 2048000,
      "rowLimit": 10000
     },
     "inputWidgets": {},
     "nuid": "89ce1b6f-71d1-4b18-8dbe-b41ae76fecd9",
     "showTitle": false,
     "title": ""
    }
   },
   "outputs": [],
   "source": [
    "from pyspark.sql.functions import current_date\n",
    " \n",
    "dfExamesRaw = dfExames.withColumn(\"DT_CARGA\", current_date() ) \n",
    "dfExamesRaw.write.format(\"parquet\").option(\"compression\", \"snappy\").option(\"encoding\", \"UTF-8\").mode(\"overwrite\").parquet(\"dbfs:/FileStore/mnt/cargas/raw/dfExames.parquet\")\n",
    "\n",
    "dfPacientesRaw = dfPacientes.withColumn(\"DT_CARGA\", current_date() ) \n",
    "dfPacientesRaw.write.format(\"parquet\").option(\"compression\", \"snappy\").option(\"encoding\", \"UTF-8\").mode(\"overwrite\").parquet(\"dbfs:/FileStore/mnt/cargas/raw/dfPacientes.parquet\")\n",
    " "
   ]
  },
  {
   "cell_type": "code",
   "execution_count": 0,
   "metadata": {
    "application/vnd.databricks.v1+cell": {
     "cellMetadata": {
      "byteLimit": 2048000,
      "rowLimit": 10000
     },
     "inputWidgets": {},
     "nuid": "2bd05a46-4359-4386-9246-829223a6f191",
     "showTitle": false,
     "title": ""
    }
   },
   "outputs": [],
   "source": [
    "#now = datetime.datetime.now()\n",
    "#date_str = now.strftime(\"%Y-%m-%d\") \n",
    "#dbutils.fs.mkdirs(\"dbfs:/FileStore/mnt/cargas/stage/historico/\" + date_str + \"/\")  \n",
    "#for file in os.listdir(\"/dbfs/FileStore/mnt/cargas/stage/\"):\n",
    "#    if file.endswith(\".csv\"):\n",
    "#        shutil.move(os.path.join(\"/dbfs/FileStore/mnt/cargas/stage/\", file), os.path.join(f\"/dbfs/FileStore/mnt/cargas/#stage/historico/{date_str}\", file))"
   ]
  },
  {
   "cell_type": "code",
   "execution_count": 0,
   "metadata": {
    "application/vnd.databricks.v1+cell": {
     "cellMetadata": {
      "byteLimit": 2048000,
      "rowLimit": 10000
     },
     "inputWidgets": {},
     "nuid": "d9df8628-eefe-493a-b796-749855bd851e",
     "showTitle": false,
     "title": ""
    }
   },
   "outputs": [],
   "source": [
    "from pyspark.sql.functions import regexp_replace\n",
    "from pyspark.sql.functions import col \n",
    "\n",
    "dfPacientesRaw = dfPacientesRaw.withColumn(\"CD_MUNICIPIO\", regexp_replace(\"CD_MUNICIPIO\", \"MMMM\", \"HIDEN\")) \n",
    "dfPacientesRaw = dfPacientesRaw.withColumn(\"CD_MUNICIPIO\", regexp_replace(\"CD_CEPREDUZIDO\", \"CCCC\", \"HIDEN\")) \n"
   ]
  },
  {
   "cell_type": "code",
   "execution_count": 0,
   "metadata": {
    "application/vnd.databricks.v1+cell": {
     "cellMetadata": {
      "byteLimit": 2048000,
      "rowLimit": 10000
     },
     "inputWidgets": {},
     "nuid": "9788df6e-6748-41a5-8507-7ec3688304c2",
     "showTitle": false,
     "title": ""
    }
   },
   "outputs": [],
   "source": [
    "\n",
    "dfPacientesHot = dfPacientesRaw.filter(col(\"ID_PACIENTE\").isNotNull() & col(\"AA_NASCIMENTO\").isNotNull() & col(\"CD_PAIS\").isNotNull() & col(\"CD_MUNICIPIO\").isNotNull())\n",
    "\n",
    "dfPacientesRejected = dfPacientesRaw.filter(col(\"ID_PACIENTE\").isNull() | col(\"AA_NASCIMENTO\").isNull() | col(\"CD_PAIS\").isNull() | col(\"CD_MUNICIPIO\").isNull())\n",
    "\n",
    "dfPacientesHot.write.format(\"parquet\").option(\"compression\", \"snappy\").option(\"encoding\", \"UTF-8\").mode(\"overwrite\").parquet(\"dbfs:/FileStore/mnt/cargas/curated/hot/dfPacientes.parquet\")\n",
    "\n",
    "dfPacientesRejected.write.format(\"parquet\").option(\"compression\", \"snappy\").option(\"encoding\", \"UTF-8\").mode(\"overwrite\").parquet(\"dbfs:/FileStore/mnt/cargas/curated/rejected/dfPacientes.parquet\")\n"
   ]
  },
  {
   "cell_type": "code",
   "execution_count": 0,
   "metadata": {
    "application/vnd.databricks.v1+cell": {
     "cellMetadata": {
      "byteLimit": 2048000,
      "rowLimit": 10000
     },
     "inputWidgets": {},
     "nuid": "a51815de-0fdf-4625-82de-1cc54e60dc6e",
     "showTitle": false,
     "title": ""
    }
   },
   "outputs": [],
   "source": [
    "from pyspark.sql.functions import udf\n",
    "from pyspark.sql.types import StringType\n",
    "from pyspark.sql.functions import to_date\n",
    "\n",
    "def limpaResultado(resultado):\n",
    "    return \" \".join(resultado.lower().split())\n",
    "\n",
    "#dfEraw = dfE.withColumn(\"DT_CARGA\", current_date()) \n",
    "\n",
    "limpaResultado_udf = udf(limpaResultado, StringType())  \n",
    "dfExamesRaw = dfExamesRaw.withColumn(\"DT_COLETA\", to_date(col(\"DT_COLETA\"), 'dd/MM/yyyy')) \n",
    "dfExamesRaw = dfExamesRaw.withColumn(\"DE_RESULTADO\", limpaResultado_udf(\"DE_RESULTADO\"))\n",
    "\n",
    "dfExamesHot = dfExamesRaw.filter(col(\"ID_PACIENTE\").isNotNull() & col(\"DT_COLETA\").isNotNull() & col(\"DE_ORIGEM\").isNotNull() & col(\"DE_EXAME\").isNotNull() & col(\"DE_RESULTADO\").isNotNull())\n",
    "\n",
    "dfExamesRejected = dfExamesRaw.filter(col(\"ID_PACIENTE\").isNull() | col(\"DT_COLETA\").isNull() | col(\"DE_ORIGEM\").isNull() | col(\"DE_EXAME\").isNull() | col(\"DE_RESULTADO\").isNull()) \n",
    "\n",
    "dfExamesHot.write.format(\"parquet\").option(\"compression\", \"snappy\").option(\"encoding\", \"UTF-8\").mode(\"overwrite\").parquet(\"dbfs:/FileStore/mnt/cargas/curated/hot/dfExames.parquet\")\n",
    "\n",
    "dfExamesRejected.write.format(\"parquet\").option(\"compression\", \"snappy\").option(\"encoding\", \"UTF-8\").mode(\"overwrite\").parquet(\"dbfs:/FileStore/mnt/cargas/curated/rejected/dfExames.parquet\")"
   ]
  },
  {
   "cell_type": "code",
   "execution_count": 0,
   "metadata": {
    "application/vnd.databricks.v1+cell": {
     "cellMetadata": {
      "byteLimit": 2048000,
      "rowLimit": 10000
     },
     "inputWidgets": {},
     "nuid": "8fe85358-2401-481d-8844-cbcbe3bea48a",
     "showTitle": false,
     "title": ""
    }
   },
   "outputs": [
    {
     "output_type": "stream",
     "name": "stdout",
     "output_type": "stream",
     "text": [
      "Out[88]: DataFrame[]"
     ]
    }
   ],
   "source": [
    "spark.sql(\"CREATE OR REPLACE TEMPORARY VIEW Exames USING parquet OPTIONS (path \\'dbfs:/FileStore/mnt/cargas/curated/hot/dfExames.parquet')\")"
   ]
  },
  {
   "cell_type": "code",
   "execution_count": 0,
   "metadata": {
    "application/vnd.databricks.v1+cell": {
     "cellMetadata": {
      "byteLimit": 2048000,
      "rowLimit": 10000
     },
     "inputWidgets": {},
     "nuid": "b32a4298-33a9-4a18-b1b8-f95282dff64e",
     "showTitle": false,
     "title": ""
    }
   },
   "outputs": [
    {
     "output_type": "stream",
     "name": "stdout",
     "output_type": "stream",
     "text": [
      "Out[89]: DataFrame[]"
     ]
    }
   ],
   "source": [
    "spark.sql(\"CREATE OR REPLACE TEMPORARY VIEW Pacientes USING parquet OPTIONS (path \\'dbfs:/FileStore/mnt/cargas/curated/hot/dfPacientes.parquet')\")"
   ]
  },
  {
   "cell_type": "code",
   "execution_count": 0,
   "metadata": {
    "application/vnd.databricks.v1+cell": {
     "cellMetadata": {
      "byteLimit": 2048000,
      "rowLimit": 10000
     },
     "inputWidgets": {},
     "nuid": "ec696703-0f1e-4cf2-b1e6-63757d1d6c1d",
     "showTitle": false,
     "title": ""
    }
   },
   "outputs": [
    {
     "output_type": "stream",
     "name": "stdout",
     "output_type": "stream",
     "text": [
      "Out[90]: [FileInfo(path='dbfs:/FileStore/mnt/cargas/service/contagem_exames_por_pacientes/dfContagemExamesPorPaciente.parquet/', name='dfContagemExamesPorPaciente.parquet/', size=0, modificationTime=1685474351000)]"
     ]
    }
   ],
   "source": [
    "dfContagem_exames_por_pacientes = spark.sql(\"SELECT p.id_paciente, count(*) ContagemExames FROM Exames e inner join Pacientes p on e.id_paciente = p.id_paciente GROUP BY p.id_paciente \") \n",
    "\n",
    "dbutils.fs.mkdirs(\"dbfs:/FileStore/mnt/cargas/service/contagem_exames_por_pacientes\")\n",
    "\n",
    "dfExamesRejected.write.format(\"parquet\").option(\"compression\", \"snappy\").option(\"encoding\", \"UTF-8\").mode(\"overwrite\").parquet(\"dbfs:/FileStore/mnt/cargas/service/contagem_exames_por_pacientes/dfContagemExamesPorPaciente.parquet\")\n",
    "\n",
    "dbutils.fs.ls(\"dbfs:/FileStore/mnt/cargas/service/contagem_exames_por_pacientes\")"
   ]
  },
  {
   "cell_type": "code",
   "execution_count": 0,
   "metadata": {
    "application/vnd.databricks.v1+cell": {
     "cellMetadata": {
      "byteLimit": 2048000,
      "rowLimit": 10000
     },
     "inputWidgets": {},
     "nuid": "77024eaa-e6da-4b81-b9b3-76f572b67075",
     "showTitle": false,
     "title": ""
    }
   },
   "outputs": [],
   "source": [
    "dfExamesPorPacientes  = spark.sql(\"SELECT round(datediff(current_date() , to_date(CONCAT(AA_NASCIMENTO ,'-01-01')))/ 365.25,0) VL_IDADE, p.ID_PACIENTE, p.IC_SEXO, p.CD_UF, p.CD_MUNICIPIO, p.CD_CEPREDUZIDO, p.CD_PAIS  ,  \\\n",
    "          \\\n",
    "          e.DT_COLETA, e.DE_ORIGEM, e.DE_EXAME, e.DE_ANALITO, e.DE_RESULTADO, e.CD_UNIDADE, e.DE_VALOR_REFERENCIA  \\\n",
    "           FROM Exames e inner join Pacientes p on e.id_paciente = p.id_paciente\")\n",
    "\n",
    "#dbutils.fs.mkdirs(\"dbfs:/FileStore/mnt/cargas/service/exames_por_pacientes\") \n",
    "dfExamesPorPacientes.write.partitionBy('CD_UF', 'CD_PAIS').format(\"parquet\").option(\"compression\", \"snappy\").\\\n",
    "option(\"encoding\", \"UTF-8\").mode(\"overwrite\").\\\n",
    "parquet(\"dbfs:/FileStore/mnt/cargas/service/exames_por_pacientes/dfExamesPorPaciente.parquet\")\n"
   ]
  },
  {
   "cell_type": "code",
   "execution_count": 0,
   "metadata": {
    "application/vnd.databricks.v1+cell": {
     "cellMetadata": {
      "byteLimit": 2048000,
      "rowLimit": 10000
     },
     "inputWidgets": {},
     "nuid": "b951df7d-2365-49b0-9ed7-6668f1034339",
     "showTitle": false,
     "title": ""
    }
   },
   "outputs": [],
   "source": [
    " \n",
    "dbutils.fs.mkdirs(\"dbfs:/FileStore/mnt/cargas/service/exames_por_pacientes_sp\") \n",
    " \n",
    "#inverti o particionamento pq não uso o cd_pais na consulta\n",
    "dfExamesPacienteSP = dfExamesPorPacientes.filter(col(\"CD_UF\") == \"SP\")\n",
    "dfExamesPacienteSP.write.format(\"parquet\").option(\"compression\", \"snappy\").option(\"encoding\", \"UTF-8\").mode(\"overwrite\").parquet(\"dbfs:/FileStore/mnt/cargas/service/exames_por_pacientes_sp/dfExamesPorPacienteSP.parquet\")\n"
   ]
  },
  {
   "cell_type": "code",
   "execution_count": 0,
   "metadata": {
    "application/vnd.databricks.v1+cell": {
     "cellMetadata": {
      "byteLimit": 2048000,
      "rowLimit": 10000
     },
     "inputWidgets": {},
     "nuid": "c32495d9-f963-4d46-aa3b-9524c9a62362",
     "showTitle": false,
     "title": ""
    }
   },
   "outputs": [
    {
     "output_type": "stream",
     "name": "stderr",
     "output_type": "stream",
     "text": [
      "/databricks/spark/python/pyspark/sql/pandas/utils.py:124: UserWarning: The conversion of DecimalType columns is inefficient and may take a long time. Column names: [VL_IDADE] If those columns are not necessary, you may consider dropping them or converting to primitive types before the conversion.\n  warnings.warn(\n"
     ]
    }
   ],
   "source": [
    "import pandas as pd\n",
    "from pyspark.sql import SparkSession\n",
    "# Read in data\n",
    "dfExamesPacienteSP_pandas = dfExamesPacienteSP.toPandas() \n",
    "dfExamesPacienteSP_pandas_ResultadoNaoNumerico = dfExamesPacienteSP_pandas[dfExamesPacienteSP_pandas['DE_RESULTADO'].apply(lambda x: not x.isnumeric())]\n",
    " "
   ]
  },
  {
   "cell_type": "code",
   "execution_count": 0,
   "metadata": {
    "application/vnd.databricks.v1+cell": {
     "cellMetadata": {
      "byteLimit": 2048000,
      "rowLimit": 10000
     },
     "inputWidgets": {},
     "nuid": "edded614-d65c-40bf-af9e-7721861808bb",
     "showTitle": false,
     "title": ""
    }
   },
   "outputs": [
    {
     "output_type": "display_data",
     "data": {
      "image/png": "[encoded data removed]"
     },
     "metadata": {
      "application/vnd.databricks.v1+output": {
       "addedWidgets": {},
       "arguments": {},
       "data": "data:image/png;base64,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\n",
       "datasetInfos": [],
       "metadata": {},
       "removedWidgets": [],
       "type": "image"
      }
     },
     "output_type": "display_data"
    }
   ],
   "source": [
    "import pandas as pd\n",
    "import matplotlib.pyplot as plt\n",
    " \n",
    "contagem = dfExamesPacienteSP_pandas_ResultadoNaoNumerico['DE_ANALITO'].value_counts() \n",
    "df_contagem = pd.DataFrame({'DE_ANALITO': contagem.index, 'Contagem': contagem.values})\n",
    " \n",
    "df_contagem.plot.hist(x='DE_ANALITO', y='Contagem', bins=10)\n",
    "\n",
    "plt.show()\n",
    " \n"
   ]
  },
  {
   "cell_type": "code",
   "execution_count": 0,
   "metadata": {
    "application/vnd.databricks.v1+cell": {
     "cellMetadata": {
      "byteLimit": 2048000,
      "rowLimit": 10000
     },
     "inputWidgets": {},
     "nuid": "7a4039ab-bc75-44b1-be81-c133633f22ab",
     "showTitle": false,
     "title": ""
    }
   },
   "outputs": [
    {
     "output_type": "display_data",
     "data": {
      "text/html": [
       "<style scoped>\n",
       "  .table-result-container {\n",
       "    max-height: 300px;\n",
       "    overflow: auto;\n",
       "  }\n",
       "  table, th, td {\n",
       "    border: 1px solid black;\n",
       "    border-collapse: collapse;\n",
       "  }\n",
       "  th, td {\n",
       "    padding: 5px;\n",
       "  }\n",
       "  th {\n",
       "    text-align: left;\n",
       "  }\n",
       "</style><div class='table-result-container'><table class='table-result'><thead style='background-color: white'><tr><th>DE_EXAME</th><th>DE_ANALITO</th><th>CONTAGEM</th></tr></thead><tbody><tr><td>Contagem de Plaquetas</td><td>Plaquetas</td><td>108</td></tr><tr><td>Dosagem de Gama GT</td><td>Gama GT</td><td>1234</td></tr><tr><td>Gasometria Arterial</td><td>pO2 (gasometria arterial)</td><td>1</td></tr><tr><td>Gasometria Venosa</td><td>Fio2 (gasometria venosa)</td><td>471</td></tr><tr><td>TTPA</td><td>TTPA segundos</td><td>1</td></tr><tr><td>Diferencial Manual</td><td>Basófilos #</td><td>637</td></tr><tr><td>Diferencial Manual</td><td>Promielócitos #</td><td>636</td></tr><tr><td>Leucograma Auto</td><td>Eosinófilos  #</td><td>1</td></tr><tr><td>Urina Tipo I</td><td>pH</td><td>42</td></tr><tr><td>Dosagem de Lipase</td><td>Dosagem de Lipase</td><td>506</td></tr><tr><td>Diferencial Manual</td><td>Linfócitos #</td><td>648</td></tr><tr><td>Gasometria Arterial</td><td>Fio2 Arterial</td><td>269</td></tr><tr><td>Triagem de Urina</td><td>pH</td><td>1</td></tr><tr><td>Sedimento Urinário</td><td>Leucócitos Urina</td><td>2</td></tr><tr><td>Dosagem de Uréia</td><td>Uréia</td><td>2657</td></tr><tr><td>Urina Tipo I</td><td>Hemácias Urina</td><td>595</td></tr><tr><td>Diferencial Manual</td><td>Monócitos #</td><td>647</td></tr><tr><td>Diferencial Manual</td><td>Bastonetes #</td><td>643</td></tr><tr><td>Leucograma Auto</td><td>Linfócitos #</td><td>1</td></tr><tr><td>Dosagem de Desidrogenase Láctica</td><td>Dehidrogenase Láctica</td><td>578</td></tr><tr><td>Diferencial Manual</td><td>Eosinófilos  #</td><td>639</td></tr><tr><td>Hemograma Contagem Auto</td><td>Eosinófilos  #</td><td>2527</td></tr><tr><td>Dosagem de Fosfatase Alcalina</td><td>Fosfatase Alcalina</td><td>1110</td></tr><tr><td>Diferencial Manual</td><td>Mieloblastos #</td><td>635</td></tr><tr><td>Sorologia SARS-CoV-2/COVID19 IgG/IgM</td><td>COVID IgM Interp</td><td>14</td></tr><tr><td>Sedimento Urinário</td><td>Hemácias Urina</td><td>2</td></tr><tr><td>Tempo de Protrombina</td><td>TP, Atividade</td><td>708</td></tr><tr><td>Leucograma Auto</td><td>Basófilos #</td><td>1</td></tr><tr><td>Gasometria Venosa</td><td>Saturação da Hb (gasometria venosa)</td><td>1</td></tr><tr><td>Triagem de Urina</td><td>Densidade</td><td>9</td></tr><tr><td>Dosagem de TGP</td><td>TGP</td><td>1640</td></tr><tr><td>Dosagem de Insulina</td><td>Dosagem de Glicose</td><td>316</td></tr><tr><td>Dosagem de D-Dímero</td><td>D-Dímero</td><td>634</td></tr><tr><td>Dosagem de Vitamina B12</td><td>Dosagem de Vitamina B12</td><td>545</td></tr><tr><td>Hemograma Contagem Auto</td><td>Linfócitos #</td><td>2530</td></tr><tr><td>Hemograma Contagem Auto</td><td>Neutrófilos  #</td><td>2530</td></tr><tr><td>Diferencial Manual</td><td>Metamielócitos #</td><td>640</td></tr><tr><td>Leucograma</td><td>Leucócitos #</td><td>1</td></tr><tr><td>Urina Tipo I</td><td>Densidade</td><td>782</td></tr><tr><td>Sorologia SARS-CoV-2/COVID19 IgG/IgM</td><td>COVID IgG Interp</td><td>14</td></tr><tr><td>Hemograma com Plaquetas</td><td>Plaquetas</td><td>3209</td></tr><tr><td>Leucograma Auto</td><td>Neutrófilos  #</td><td>1</td></tr><tr><td>Clearance de Uréia</td><td>Uréia</td><td>1</td></tr><tr><td>Urina Tipo I</td><td>Leucócitos Urina</td><td>661</td></tr><tr><td>Diferencial Manual</td><td>Segmentados #</td><td>648</td></tr><tr><td>Cirúrgico :GAA,Hb,Ht,Na,K,Glic,CA++,Lact</td><td>Sódio</td><td>9</td></tr><tr><td>Hemograma Contagem Auto</td><td>Basófilos #</td><td>2528</td></tr><tr><td>Dosagem de Sódio</td><td>Sódio</td><td>2205</td></tr><tr><td>Dosagem de TGO</td><td>TGO</td><td>1629</td></tr><tr><td>Diferencial Manual</td><td>Mielócitos #</td><td>638</td></tr><tr><td>Hemograma com Plaquetas</td><td>Leucócitos #</td><td>3209</td></tr><tr><td>Dosagem de CPK</td><td>CPK</td><td>435</td></tr><tr><td>Leucograma Auto</td><td>Monócitos #</td><td>1</td></tr><tr><td>Cirúrgico :GAA,Hb,Ht,Na,K,Glic,CA++,Lact</td><td>Dosagem de Glicose</td><td>11</td></tr><tr><td>Dosagem de Glicose</td><td>Dosagem de Glicose</td><td>3104</td></tr><tr><td>Hemograma Contagem Auto</td><td>Monócitos #</td><td>2530</td></tr><tr><td>Cirúrgico :GAA,Hb,Ht,Na,K,Glic,CA++,Lact</td><td>Fio2 Arterial</td><td>7</td></tr></tbody></table></div>"
      ]
     },
     "metadata": {
      "application/vnd.databricks.v1+output": {
       "addedWidgets": {},
       "aggData": [],
       "aggError": "",
       "aggOverflow": false,
       "aggSchema": [],
       "aggSeriesLimitReached": false,
       "aggType": "",
       "arguments": {},
       "columnCustomDisplayInfos": {},
       "data": [
        [
         "Contagem de Plaquetas",
         "Plaquetas",
         108
        ],
        [
         "Dosagem de Gama GT",
         "Gama GT",
         1234
        ],
        [
         "Gasometria Arterial",
         "pO2 (gasometria arterial)",
         1
        ],
        [
         "Gasometria Venosa",
         "Fio2 (gasometria venosa)",
         471
        ],
        [
         "TTPA",
         "TTPA segundos",
         1
        ],
        [
         "Diferencial Manual",
         "Basófilos #",
         637
        ],
        [
         "Diferencial Manual",
         "Promielócitos #",
         636
        ],
        [
         "Leucograma Auto",
         "Eosinófilos  #",
         1
        ],
        [
         "Urina Tipo I",
         "pH",
         42
        ],
        [
         "Dosagem de Lipase",
         "Dosagem de Lipase",
         506
        ],
        [
         "Diferencial Manual",
         "Linfócitos #",
         648
        ],
        [
         "Gasometria Arterial",
         "Fio2 Arterial",
         269
        ],
        [
         "Triagem de Urina",
         "pH",
         1
        ],
        [
         "Sedimento Urinário",
         "Leucócitos Urina",
         2
        ],
        [
         "Dosagem de Uréia",
         "Uréia",
         2657
        ],
        [
         "Urina Tipo I",
         "Hemácias Urina",
         595
        ],
        [
         "Diferencial Manual",
         "Monócitos #",
         647
        ],
        [
         "Diferencial Manual",
         "Bastonetes #",
         643
        ],
        [
         "Leucograma Auto",
         "Linfócitos #",
         1
        ],
        [
         "Dosagem de Desidrogenase Láctica",
         "Dehidrogenase Láctica",
         578
        ],
        [
         "Diferencial Manual",
         "Eosinófilos  #",
         639
        ],
        [
         "Hemograma Contagem Auto",
         "Eosinófilos  #",
         2527
        ],
        [
         "Dosagem de Fosfatase Alcalina",
         "Fosfatase Alcalina",
         1110
        ],
        [
         "Diferencial Manual",
         "Mieloblastos #",
         635
        ],
        [
         "Sorologia SARS-CoV-2/COVID19 IgG/IgM",
         "COVID IgM Interp",
         14
        ],
        [
         "Sedimento Urinário",
         "Hemácias Urina",
         2
        ],
        [
         "Tempo de Protrombina",
         "TP, Atividade",
         708
        ],
        [
         "Leucograma Auto",
         "Basófilos #",
         1
        ],
        [
         "Gasometria Venosa",
         "Saturação da Hb (gasometria venosa)",
         1
        ],
        [
         "Triagem de Urina",
         "Densidade",
         9
        ],
        [
         "Dosagem de TGP",
         "TGP",
         1640
        ],
        [
         "Dosagem de Insulina",
         "Dosagem de Glicose",
         316
        ],
        [
         "Dosagem de D-Dímero",
         "D-Dímero",
         634
        ],
        [
         "Dosagem de Vitamina B12",
         "Dosagem de Vitamina B12",
         545
        ],
        [
         "Hemograma Contagem Auto",
         "Linfócitos #",
         2530
        ],
        [
         "Hemograma Contagem Auto",
         "Neutrófilos  #",
         2530
        ],
        [
         "Diferencial Manual",
         "Metamielócitos #",
         640
        ],
        [
         "Leucograma",
         "Leucócitos #",
         1
        ],
        [
         "Urina Tipo I",
         "Densidade",
         782
        ],
        [
         "Sorologia SARS-CoV-2/COVID19 IgG/IgM",
         "COVID IgG Interp",
         14
        ],
        [
         "Hemograma com Plaquetas",
         "Plaquetas",
         3209
        ],
        [
         "Leucograma Auto",
         "Neutrófilos  #",
         1
        ],
        [
         "Clearance de Uréia",
         "Uréia",
         1
        ],
        [
         "Urina Tipo I",
         "Leucócitos Urina",
         661
        ],
        [
         "Diferencial Manual",
         "Segmentados #",
         648
        ],
        [
         "Cirúrgico :GAA,Hb,Ht,Na,K,Glic,CA++,Lact",
         "Sódio",
         9
        ],
        [
         "Hemograma Contagem Auto",
         "Basófilos #",
         2528
        ],
        [
         "Dosagem de Sódio",
         "Sódio",
         2205
        ],
        [
         "Dosagem de TGO",
         "TGO",
         1629
        ],
        [
         "Diferencial Manual",
         "Mielócitos #",
         638
        ],
        [
         "Hemograma com Plaquetas",
         "Leucócitos #",
         3209
        ],
        [
         "Dosagem de CPK",
         "CPK",
         435
        ],
        [
         "Leucograma Auto",
         "Monócitos #",
         1
        ],
        [
         "Cirúrgico :GAA,Hb,Ht,Na,K,Glic,CA++,Lact",
         "Dosagem de Glicose",
         11
        ],
        [
         "Dosagem de Glicose",
         "Dosagem de Glicose",
         3104
        ],
        [
         "Hemograma Contagem Auto",
         "Monócitos #",
         2530
        ],
        [
         "Cirúrgico :GAA,Hb,Ht,Na,K,Glic,CA++,Lact",
         "Fio2 Arterial",
         7
        ]
       ],
       "datasetInfos": [],
       "dbfsResultPath": null,
       "isJsonSchema": true,
       "metadata": {},
       "overflow": false,
       "plotOptions": {
        "customPlotOptions": {},
        "displayType": "table",
        "pivotAggregation": null,
        "pivotColumns": null,
        "xColumns": null,
        "yColumns": null
       },
       "removedWidgets": [],
       "schema": [
        {
         "metadata": "{}",
         "name": "DE_EXAME",
         "type": "\"string\""
        },
        {
         "metadata": "{}",
         "name": "DE_ANALITO",
         "type": "\"string\""
        },
        {
         "metadata": "{}",
         "name": "CONTAGEM",
         "type": "\"long\""
        }
       ],
       "type": "table"
      }
     },
     "output_type": "display_data"
    }
   ],
   "source": [
    "dfContagemExamesResultadoNaoNumerico = spark.sql(\"SELECT  e.DE_EXAME, e.DE_ANALITO, count(*) CONTAGEM\\\n",
    "           FROM Exames e inner join Pacientes p on e.id_paciente = p.id_paciente\\\n",
    "           where e.DE_RESULTADO RLIKE '^[0-9]*$'\\\n",
    "           GROUP BY e.DE_EXAME, e.DE_ANALITO\")\n",
    "\n",
    "display(dfContagemExamesResultadoNaoNumerico)\n"
   ]
  },
  {
   "cell_type": "code",
   "execution_count": 0,
   "metadata": {
    "application/vnd.databricks.v1+cell": {
     "cellMetadata": {
      "byteLimit": 2048000,
      "rowLimit": 10000
     },
     "inputWidgets": {},
     "nuid": "dac82d8a-5b61-45be-9902-be4de6e183c5",
     "showTitle": false,
     "title": ""
    }
   },
   "outputs": [],
   "source": [
    "dfContagemExamesResultadoNaoNumerico = dfContagemExamesResultadoNaoNumerico.toPandas()\n"
   ]
  },
  {
   "cell_type": "code",
   "execution_count": 0,
   "metadata": {
    "application/vnd.databricks.v1+cell": {
     "cellMetadata": {
      "byteLimit": 2048000,
      "rowLimit": 10000
     },
     "inputWidgets": {},
     "nuid": "06f31252-8a4a-4472-b873-5957abe08d75",
     "showTitle": false,
     "title": ""
    }
   },
   "outputs": [
    {
     "output_type": "display_data",
     "data": {
      "image/png": "[encoded data removed]"
     },
     "metadata": {
      "application/vnd.databricks.v1+output": {
       "addedWidgets": {},
       "arguments": {},
       "data": "data:image/png;base64,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\n",
       "datasetInfos": [],
       "metadata": {},
       "removedWidgets": [],
       "type": "image"
      }
     },
     "output_type": "display_data"
    }
   ],
   "source": [
    "\n",
    "\n",
    "fig, ax = plt.subplots()\n",
    "ax.bar(dfContagemExamesResultadoNaoNumerico['DE_ANALITO'], dfContagemExamesResultadoNaoNumerico['CONTAGEM'], label=\"ANALITO\")\n",
    "ax.bar(dfContagemExamesResultadoNaoNumerico['DE_EXAME'], dfContagemExamesResultadoNaoNumerico['CONTAGEM'], label=\"EXAME\" )\n",
    "ax.set_xlabel(\"Eixo X\")\n",
    "ax.set_ylabel(\"Eixo Y\")\n",
    "ax.legend()\n",
    "\n",
    "# exibir gráfico resultante\n",
    "plt.show()\n"
   ]
  },
  {
   "cell_type": "code",
   "execution_count": 0,
   "metadata": {
    "application/vnd.databricks.v1+cell": {
     "cellMetadata": {
      "byteLimit": 2048000,
      "rowLimit": 10000
     },
     "inputWidgets": {},
     "nuid": "977c93bd-b9cb-470a-a916-6f81b389b081",
     "showTitle": false,
     "title": ""
    }
   },
   "outputs": [],
   "source": [
    " \n",
    " \n"
   ]
  },
  {
   "cell_type": "code",
   "execution_count": 0,
   "metadata": {
    "application/vnd.databricks.v1+cell": {
     "cellMetadata": {
      "byteLimit": 2048000,
      "rowLimit": 10000
     },
     "inputWidgets": {},
     "nuid": "9afa6ad2-df6a-43d9-8179-67159af34e85",
     "showTitle": false,
     "title": ""
    }
   },
   "outputs": [
    {
     "output_type": "display_data",
     "data": {
      "text/plain": [
       ""
      ]
     },
     "metadata": {
      "application/vnd.databricks.v1+output": {
       "arguments": {},
       "data": "",
       "errorSummary": "Command skipped",
       "errorTraceType": "ansi",
       "metadata": {},
       "type": "ipynbError"
      }
     },
     "output_type": "display_data"
    }
   ],
   "source": [
    " #dfContagem_exames_por_pacientes = spark.sql(\"SELECT p.id_paciente, count(*) ContagemExames FROM Exames e inner join #Pacientes p on e.id_paciente = p.id_paciente GROUP BY p.id_paciente \") \n",
    "\n",
    "#dbutils.fs.mkdirs(\"dbfs:/FileStore/mnt/cargas/service/exames_por_pacientes\")\n",
    "\n",
    "#dfExamesRejected.write.format(\"parquet\").option(\"compression\", \"snappy\").option(\"encoding\", \"UTF-8\").mode(\"overwrite\").#parquet(\"dbfs:/FileStore/mnt/cargas/service/exames_por_pacientes/dfExamesPorPaciente.parquet\")\n",
    "\n",
    "#dbutils.fs.ls(\"dbfs:/FileStore/mnt/cargas/service/exames_por_pacientes\")"
   ]
  },
  {
   "cell_type": "code",
   "execution_count": 0,
   "metadata": {
    "application/vnd.databricks.v1+cell": {
     "cellMetadata": {
      "byteLimit": 2048000,
      "rowLimit": 10000
     },
     "inputWidgets": {},
     "nuid": "cb0f40c7-1d1f-4788-b1a0-4cf788567880",
     "showTitle": false,
     "title": ""
    }
   },
   "outputs": [
    {
     "output_type": "display_data",
     "data": {
      "text/plain": [
       ""
      ]
     },
     "metadata": {
      "application/vnd.databricks.v1+output": {
       "arguments": {},
       "data": "",
       "errorSummary": "Command skipped",
       "errorTraceType": "ansi",
       "metadata": {},
       "type": "ipynbError"
      }
     },
     "output_type": "display_data"
    }
   ],
   "source": [
    "#criar estrutura de pastas \n",
    "#dbutils.fs.ls(\"dbfs:/FileStore/mnt/cargas/stage/hi\")\n",
    "#dbutils.fs.ls(\"dbfs:/FileStore/mnt/cargas/stage/historico/2023-05-29/\")\n",
    "#dbutils.fs.ls(\"dbfs:/FileStore/mnt/cargas/curated/hot\")\n",
    "#dbutils.fs.mkdirs(\"dbfs:/FileStore/mnt/cargas/curated/\")\n",
    "#dbutils.fs.mkdirs(\"dbfs:/FileStore/mnt/cargas/curated/hot\")\n",
    "#dbutils.fs.mkdirs(\"dbfs:/FileStore/mnt/cargas/curated/rejected\")\n",
    "#dbutils.fs.mkdirs(\"dbfs:/FileStore/mnt/cargas/service/\")\n",
    "#dbutils.fs.mkdirs(\"dbfs:/FileStore/shared_uploads/elcides.marques.filho@hotmail.com/EINSTEIN_Exames_2.csv\")\n",
    "#dbutils.fs.rm(\"dbfs:/FileStore/shared_uploads/elcides.marques.filho@hotmail.com/EINSTEIN_Pacientes_2.csv\")"
   ]
  }
 ],
 "metadata": {
  "application/vnd.databricks.v1+notebook": {
   "dashboards": [],
   "language": "python",
   "notebookMetadata": {
    "pythonIndentUnit": 4
   },
   "notebookName": "carregando de stage para raw",
   "widgets": {}
  }
 },
 "nbformat": 4,
 "nbformat_minor": 0
}
